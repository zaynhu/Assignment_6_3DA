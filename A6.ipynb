{
 "cells": [
  {
   "cell_type": "raw",
   "metadata": {
    "vscode": {
     "languageId": "raw"
    }
   },
   "source": [
    "---\n",
    "title: STATS 3DA3\n",
    "subtitle: Homework Assignment 6\n",
    "author: \"Rongxin Bi(400350106), Felix He(400468689, Jiaxin(Zayn) Hu(400294177)\"\n",
    "\n",
    "format: html\n",
    "---"
   ]
  },
  {
   "cell_type": "code",
   "execution_count": 12,
   "metadata": {},
   "outputs": [],
   "source": [
    "import pandas as pd\n",
    "import numpy as np\n",
    "import seaborn as sns\n",
    "import matplotlib.pyplot as plt\n",
    "from sklearn.model_selection import GridSearchCV\n",
    "from sklearn.linear_model import LogisticRegression\n",
    "from sklearn.ensemble import RandomForestClassifier\n",
    "from sklearn.preprocessing import StandardScaler\n",
    "from sklearn.decomposition import PCA\n",
    "from sklearn.cluster import KMeans\n",
    "from sklearn.linear_model import LogisticRegression\n",
    "from sklearn.ensemble import RandomForestClassifier\n",
    "from sklearn.model_selection import GridSearchCV\n",
    "from sklearn.linear_model import LogisticRegression\n",
    "from sklearn.decomposition import PCA\n",
    "from sklearn.pipeline import Pipeline\n",
    "from sklearn.metrics import classification_report, accuracy_score\n",
    "from sklearn.metrics import accuracy_score, f1_score\n",
    "from sklearn.cluster import KMeans\n",
    "import matplotlib.pyplot as plt\n",
    "\n",
    "from sklearn.model_selection import train_test_split\n",
    "\n"
   ]
  },
  {
   "cell_type": "code",
   "execution_count": 13,
   "metadata": {},
   "outputs": [
    {
     "name": "stdout",
     "output_type": "stream",
     "text": [
      "<class 'pandas.core.frame.DataFrame'>\n",
      "RangeIndex: 303 entries, 0 to 302\n",
      "Data columns (total 14 columns):\n",
      " #   Column    Non-Null Count  Dtype  \n",
      "---  ------    --------------  -----  \n",
      " 0   age       303 non-null    float64\n",
      " 1   sex       303 non-null    float64\n",
      " 2   cp        303 non-null    float64\n",
      " 3   trestbps  303 non-null    float64\n",
      " 4   chol      303 non-null    float64\n",
      " 5   fbs       303 non-null    float64\n",
      " 6   restecg   303 non-null    float64\n",
      " 7   thalach   303 non-null    float64\n",
      " 8   exang     303 non-null    float64\n",
      " 9   oldpeak   303 non-null    float64\n",
      " 10  slope     303 non-null    float64\n",
      " 11  ca        303 non-null    object \n",
      " 12  thal      303 non-null    object \n",
      " 13  num       303 non-null    int64  \n",
      "dtypes: float64(11), int64(1), object(2)\n",
      "memory usage: 33.3+ KB\n",
      "None\n",
      "              age         sex          cp    trestbps        chol         fbs  \\\n",
      "count  303.000000  303.000000  303.000000  303.000000  303.000000  303.000000   \n",
      "mean    54.438944    0.679868    3.158416  131.689769  246.693069    0.148515   \n",
      "std      9.038662    0.467299    0.960126   17.599748   51.776918    0.356198   \n",
      "min     29.000000    0.000000    1.000000   94.000000  126.000000    0.000000   \n",
      "25%     48.000000    0.000000    3.000000  120.000000  211.000000    0.000000   \n",
      "50%     56.000000    1.000000    3.000000  130.000000  241.000000    0.000000   \n",
      "75%     61.000000    1.000000    4.000000  140.000000  275.000000    0.000000   \n",
      "max     77.000000    1.000000    4.000000  200.000000  564.000000    1.000000   \n",
      "\n",
      "          restecg     thalach       exang     oldpeak       slope         num  \n",
      "count  303.000000  303.000000  303.000000  303.000000  303.000000  303.000000  \n",
      "mean     0.990099  149.607261    0.326733    1.039604    1.600660    0.937294  \n",
      "std      0.994971   22.875003    0.469794    1.161075    0.616226    1.228536  \n",
      "min      0.000000   71.000000    0.000000    0.000000    1.000000    0.000000  \n",
      "25%      0.000000  133.500000    0.000000    0.000000    1.000000    0.000000  \n",
      "50%      1.000000  153.000000    0.000000    0.800000    2.000000    0.000000  \n",
      "75%      2.000000  166.000000    1.000000    1.600000    2.000000    2.000000  \n",
      "max      2.000000  202.000000    1.000000    6.200000    3.000000    4.000000  \n",
      "age         0\n",
      "sex         0\n",
      "cp          0\n",
      "trestbps    0\n",
      "chol        0\n",
      "fbs         0\n",
      "restecg     0\n",
      "thalach     0\n",
      "exang       0\n",
      "oldpeak     0\n",
      "slope       0\n",
      "ca          0\n",
      "thal        0\n",
      "num         0\n",
      "dtype: int64\n"
     ]
    }
   ],
   "source": [
    "url = \"https://archive.ics.uci.edu/ml/machine-learning-databases/heart-disease/processed.cleveland.data\"\n",
    "columns = [\n",
    "    \"age\", \"sex\", \"cp\", \"trestbps\", \"chol\", \"fbs\", \"restecg\",\n",
    "    \"thalach\", \"exang\", \"oldpeak\", \"slope\", \"ca\", \"thal\", \"num\"\n",
    "]\n",
    "\n",
    "df = pd.read_csv(url, names=columns)\n",
    "\n",
    "\n",
    "\n",
    "print(df.info())\n",
    "print(df.describe())\n",
    "print(df.isnull().sum())"
   ]
  },
  {
   "cell_type": "code",
   "execution_count": 14,
   "metadata": {},
   "outputs": [
    {
     "name": "stdout",
     "output_type": "stream",
     "text": [
      "<class 'pandas.core.frame.DataFrame'>\n",
      "RangeIndex: 303 entries, 0 to 302\n",
      "Data columns (total 14 columns):\n",
      " #   Column    Non-Null Count  Dtype  \n",
      "---  ------    --------------  -----  \n",
      " 0   age       303 non-null    float64\n",
      " 1   sex       303 non-null    float64\n",
      " 2   cp        303 non-null    float64\n",
      " 3   trestbps  303 non-null    float64\n",
      " 4   chol      303 non-null    float64\n",
      " 5   fbs       303 non-null    float64\n",
      " 6   restecg   303 non-null    float64\n",
      " 7   thalach   303 non-null    float64\n",
      " 8   exang     303 non-null    float64\n",
      " 9   oldpeak   303 non-null    float64\n",
      " 10  slope     303 non-null    float64\n",
      " 11  ca        303 non-null    object \n",
      " 12  thal      303 non-null    object \n",
      " 13  num       303 non-null    int64  \n",
      "dtypes: float64(11), int64(1), object(2)\n",
      "memory usage: 33.3+ KB\n",
      "None\n",
      "              age         sex          cp    trestbps        chol         fbs  \\\n",
      "count  303.000000  303.000000  303.000000  303.000000  303.000000  303.000000   \n",
      "mean    54.438944    0.679868    3.158416  131.689769  246.693069    0.148515   \n",
      "std      9.038662    0.467299    0.960126   17.599748   51.776918    0.356198   \n",
      "min     29.000000    0.000000    1.000000   94.000000  126.000000    0.000000   \n",
      "25%     48.000000    0.000000    3.000000  120.000000  211.000000    0.000000   \n",
      "50%     56.000000    1.000000    3.000000  130.000000  241.000000    0.000000   \n",
      "75%     61.000000    1.000000    4.000000  140.000000  275.000000    0.000000   \n",
      "max     77.000000    1.000000    4.000000  200.000000  564.000000    1.000000   \n",
      "\n",
      "          restecg     thalach       exang     oldpeak       slope         num  \n",
      "count  303.000000  303.000000  303.000000  303.000000  303.000000  303.000000  \n",
      "mean     0.990099  149.607261    0.326733    1.039604    1.600660    0.937294  \n",
      "std      0.994971   22.875003    0.469794    1.161075    0.616226    1.228536  \n",
      "min      0.000000   71.000000    0.000000    0.000000    1.000000    0.000000  \n",
      "25%      0.000000  133.500000    0.000000    0.000000    1.000000    0.000000  \n",
      "50%      1.000000  153.000000    0.000000    0.800000    2.000000    0.000000  \n",
      "75%      2.000000  166.000000    1.000000    1.600000    2.000000    2.000000  \n",
      "max      2.000000  202.000000    1.000000    6.200000    3.000000    4.000000  \n",
      "age         0\n",
      "sex         0\n",
      "cp          0\n",
      "trestbps    0\n",
      "chol        0\n",
      "fbs         0\n",
      "restecg     0\n",
      "thalach     0\n",
      "exang       0\n",
      "oldpeak     0\n",
      "slope       0\n",
      "ca          0\n",
      "thal        0\n",
      "num         0\n",
      "dtype: int64\n"
     ]
    }
   ],
   "source": [
    "#Q1-3\n",
    "url = \"https://archive.ics.uci.edu/ml/machine-learning-databases/heart-disease/processed.cleveland.data\"\n",
    "\n",
    "columns = [\n",
    "    \"age\", \"sex\", \"cp\", \"trestbps\", \"chol\", \"fbs\", \"restecg\",\n",
    "    \"thalach\", \"exang\", \"oldpeak\", \"slope\", \"ca\", \"thal\", \"num\"\n",
    "]\n",
    "\n",
    "df = pd.read_csv(url, names=columns)\n",
    "\n",
    "\n",
    "print(df.info())\n",
    "print(df.describe())\n",
    "print(df.isnull().sum())"
   ]
  },
  {
   "cell_type": "markdown",
   "metadata": {},
   "source": [
    "1. Define and describe a classification problem using the dataset.\n",
    "\n",
    "This is a binary classification problem using the UCI Heart Disease dataset. We will train classifiers that can predict whether a patient has heart disease or not based on the input features. The features such as age, sex, blood pressure, cholesterol levels, chest pain type, and results from diagnostic tests. This dataset contains a target variable num with values ranging from 0 to 4, representing different heart disease degrees.(We might need transform the num variable into a binary outcome) target = 1 indicate presence of heart disease (original values 1 to 4) ， target = 0 means no heart disease.\n"
   ]
  },
  {
   "cell_type": "markdown",
   "metadata": {},
   "source": [
    "2. Apply any chosen data transformations, or explain why no transformations were necessary.\n",
    "\n",
    "We apply one-hot encoding to categorical variables with more than two classes. This allows classifiers to treat each category as a separate binary feature, which improves interpretability and model performance.\n",
    "\n",
    "Standardization is necessary to numerical variables so that models like logistic regression are not biased by feature scale, which ensures that all features contribute equally to the model. It is very important for algorithms relying on distance metrics, such as k-nearest neighbors.\n"
   ]
  },
  {
   "cell_type": "code",
   "execution_count": 15,
   "metadata": {},
   "outputs": [
    {
     "name": "stdout",
     "output_type": "stream",
     "text": [
      "Transformed dataset shape: (297, 19)\n",
      "        age  trestbps      chol   thalach   oldpeak        ca  target  \\\n",
      "0  0.936181  0.750380 -0.276443  0.017494  1.068965 -0.721976       0   \n",
      "1  1.378929  1.596266  0.744555 -1.816334  0.381773  2.478425       1   \n",
      "2  1.378929 -0.659431 -0.353500 -0.899420  1.326662  1.411625       1   \n",
      "3 -1.941680 -0.095506  0.051047  1.633010  2.099753 -0.721976       0   \n",
      "4 -1.498933 -0.095506 -0.835103  0.978071  0.295874 -0.721976       0   \n",
      "\n",
      "   sex_1.0  cp_2.0  cp_3.0  cp_4.0  fbs_1.0  restecg_1.0  restecg_2.0  \\\n",
      "0     True   False   False   False     True        False         True   \n",
      "1     True   False   False    True    False        False         True   \n",
      "2     True   False   False    True    False        False         True   \n",
      "3     True   False    True   False    False        False        False   \n",
      "4    False    True   False   False    False        False         True   \n",
      "\n",
      "   exang_1.0  slope_2.0  slope_3.0  thal_6.0  thal_7.0  \n",
      "0      False      False       True      True     False  \n",
      "1       True       True      False     False     False  \n",
      "2       True       True      False     False      True  \n",
      "3      False      False       True     False     False  \n",
      "4      False      False      False     False     False  \n"
     ]
    }
   ],
   "source": [
    "df = pd.read_csv(url, names=columns)\n",
    "df.replace(\"?\", np.nan, inplace=True)\n",
    "df = df.apply(pd.to_numeric)\n",
    "df.dropna(inplace=True)\n",
    "\n",
    "df[\"target\"] = df[\"num\"].apply(lambda x: 1 if x > 0 else 0)\n",
    "df.drop(\"num\", axis=1, inplace=True)\n",
    "\n",
    "categorical_cols = [\"sex\", \"cp\", \"fbs\", \"restecg\", \"exang\", \"slope\", \"thal\"]\n",
    "numerical_cols = [\"age\", \"trestbps\", \"chol\", \"thalach\", \"oldpeak\", \"ca\"]\n",
    "\n",
    "df_encoded = pd.get_dummies(df, columns=categorical_cols, drop_first=True)\n",
    "\n",
    "scaler = StandardScaler()\n",
    "df_encoded[numerical_cols] = scaler.fit_transform(df_encoded[numerical_cols])\n",
    "\n",
    "print(\"Transformed dataset shape:\", df_encoded.shape)\n",
    "print(df_encoded.head())\n"
   ]
  },
  {
   "cell_type": "code",
   "execution_count": 16,
   "metadata": {},
   "outputs": [
    {
     "name": "stdout",
     "output_type": "stream",
     "text": [
      "<class 'pandas.core.frame.DataFrame'>\n",
      "RangeIndex: 303 entries, 0 to 302\n",
      "Data columns (total 14 columns):\n",
      " #   Column    Non-Null Count  Dtype  \n",
      "---  ------    --------------  -----  \n",
      " 0   age       303 non-null    float64\n",
      " 1   sex       303 non-null    float64\n",
      " 2   cp        303 non-null    float64\n",
      " 3   trestbps  303 non-null    float64\n",
      " 4   chol      303 non-null    float64\n",
      " 5   fbs       303 non-null    float64\n",
      " 6   restecg   303 non-null    float64\n",
      " 7   thalach   303 non-null    float64\n",
      " 8   exang     303 non-null    float64\n",
      " 9   oldpeak   303 non-null    float64\n",
      " 10  slope     303 non-null    float64\n",
      " 11  ca        303 non-null    object \n",
      " 12  thal      303 non-null    object \n",
      " 13  num       303 non-null    int64  \n",
      "dtypes: float64(11), int64(1), object(2)\n",
      "memory usage: 33.3+ KB\n",
      "None\n",
      "    age  sex   cp  trestbps   chol  fbs  restecg  thalach  exang  oldpeak  \\\n",
      "0  63.0  1.0  1.0     145.0  233.0  1.0      2.0    150.0    0.0      2.3   \n",
      "1  67.0  1.0  4.0     160.0  286.0  0.0      2.0    108.0    1.0      1.5   \n",
      "2  67.0  1.0  4.0     120.0  229.0  0.0      2.0    129.0    1.0      2.6   \n",
      "3  37.0  1.0  3.0     130.0  250.0  0.0      0.0    187.0    0.0      3.5   \n",
      "4  41.0  0.0  2.0     130.0  204.0  0.0      2.0    172.0    0.0      1.4   \n",
      "\n",
      "   slope   ca thal  num  \n",
      "0    3.0  0.0  6.0    0  \n",
      "1    2.0  3.0  3.0    2  \n",
      "2    2.0  2.0  7.0    1  \n",
      "3    3.0  0.0  3.0    0  \n",
      "4    1.0  0.0  3.0    0  \n",
      "num\n",
      "0    164\n",
      "1     55\n",
      "2     36\n",
      "3     35\n",
      "4     13\n",
      "Name: count, dtype: int64\n"
     ]
    },
    {
     "data": {
      "image/png": "[encoded data removed]",
      "text/plain": [
       "<Figure size 640x480 with 1 Axes>"
      ]
     },
     "metadata": {},
     "output_type": "display_data"
    }
   ],
   "source": [
    "#3 \n",
    "df_raw = pd.read_csv(url, names=columns)\n",
    "print(df_raw.info())\n",
    "print(df_raw.head())\n",
    "print(df_raw['num'].value_counts())\n",
    "\n",
    "\n",
    "sns.countplot(x=\"num\", data=df_raw)\n",
    "plt.title(\"Distribution of Target Variable (num)\")\n",
    "plt.xlabel(\"Heart Disease Level\")\n",
    "plt.ylabel(\"Count\")\n",
    "plt.show()"
   ]
  }
 ],
 "metadata": {
  "kernelspec": {
   "display_name": ".venv",
   "language": "python",
   "name": "python3"
  },
  "language_info": {
   "codemirror_mode": {
    "name": "ipython",
    "version": 3
   },
   "file_extension": ".py",
   "mimetype": "text/x-python",
   "name": "python",
   "nbconvert_exporter": "python",
   "pygments_lexer": "ipython3",
   "version": "3.11.5"
  }
 },
 "nbformat": 4,
 "nbformat_minor": 2
}
